{
 "cells": [
  {
   "cell_type": "code",
   "execution_count": 2,
   "metadata": {
    "collapsed": true,
    "deletable": true,
    "editable": true
   },
   "outputs": [],
   "source": [
    "from __future__ import absolute_import\n",
    "from __future__ import division\n",
    "from __future__ import print_function\n",
    "from __future__ import unicode_literals\n",
    "\n",
    "import numpy as np\n",
    "import torch\n",
    "import torch.nn as nn\n",
    "from torch import optim\n",
    "import torch.nn.functional as F"
   ]
  },
  {
   "cell_type": "code",
   "execution_count": 3,
   "metadata": {
    "collapsed": false,
    "deletable": true,
    "editable": true
   },
   "outputs": [],
   "source": [
    "class Vocab(object):\n",
    "    \n",
    "    def __init__(self, filename):\n",
    "        self.idx_to_word = {}\n",
    "        self.word_to_idx = {}\n",
    "        self.filename = filename\n",
    "        self.unk_vec = None\n",
    "        self.dim = None\n",
    "        with open(filename) as f:\n",
    "            idx = 0;\n",
    "            for line in f:\n",
    "                line = line.split()\n",
    "                self.idx_to_word[idx] = line[0]\n",
    "                self.word_to_idx[line[0]] = idx\n",
    "                if not self.dim:\n",
    "                    self.dim = len(line[1:])\n",
    "                idx += 1\n",
    "        \n",
    "        self.embedding_matrix = torch.zeros(len(self.idx_to_word)+2, dim)\n",
    "        \n",
    "        with open(filename) as f:\n",
    "            idx = 1;\n",
    "            for line in f:\n",
    "                line = line.split()\n",
    "                self.embedding_matrix[idx] = torch.tensor(list(map(float, line[1:])))\n",
    "                idx += 1\n",
    "            self.unk_vec = torch.sum(self.embedding_matrix, 0)/(len(self.idx_to_word))\n",
    "            self.embedding_matrix[len(self.idx_to_word)+1] = self.unk_vec\n",
    "        \n",
    "    def embedding(self, input_seq):\n",
    "        MAX_LEN = input_seq.size()[0]\n",
    "        batch_size = input_seq.size()[1]\n",
    "        embedded = torch.zeros(MAX_LEN, batch_size, self.dim)\n",
    "        for i in range(MAX_LEN):\n",
    "            for j in range(batch_size):\n",
    "                embedded[i,j,:] = embedding_matrix[input_seq[i, j]]\n",
    "        return embedded\n",
    "    \n",
    "    def encode(self, sentence):\n",
    "        encoded = torch.zeros(*sentence.size())\n",
    "        idx=0\n",
    "        for word in sentence:\n",
    "            if word in word_to_idx:\n",
    "                encoded[idx] = word_to_idx[word]\n",
    "            else:\n",
    "                encoded[idx] = len(word_to_idx)+1\n",
    "            idx += 1\n",
    "        \n",
    "        return encoded\n",
    "    \n",
    "    def decode(self, sentence):\n",
    "        decoded = torch.zeros(*sentence.size())\n",
    "        idx = 0\n",
    "        for word in sentence:\n",
    "            decoded[idx] = idx_to_word[word]\n",
    "        \n",
    "        return decoded\n",
    "    "
   ]
  },
  {
   "cell_type": "code",
   "execution_count": null,
   "metadata": {
    "collapsed": true
   },
   "outputs": [],
   "source": []
  }
 ],
 "metadata": {
  "kernelspec": {
   "display_name": "Python 2",
   "language": "python",
   "name": "python2"
  },
  "language_info": {
   "codemirror_mode": {
    "name": "ipython",
    "version": 2
   },
   "file_extension": ".py",
   "mimetype": "text/x-python",
   "name": "python",
   "nbconvert_exporter": "python",
   "pygments_lexer": "ipython2",
   "version": "2.7.12"
  }
 },
 "nbformat": 4,
 "nbformat_minor": 2
}
